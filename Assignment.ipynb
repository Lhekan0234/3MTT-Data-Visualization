{
  "nbformat": 4,
  "nbformat_minor": 0,
  "metadata": {
    "colab": {
      "provenance": [],
      "authorship_tag": "ABX9TyMGctvr/hs96iJoC5wTHN4X",
      "include_colab_link": true
    },
    "kernelspec": {
      "name": "python3",
      "display_name": "Python 3"
    },
    "language_info": {
      "name": "python"
    }
  },
  "cells": [
    {
      "cell_type": "markdown",
      "metadata": {
        "id": "view-in-github",
        "colab_type": "text"
      },
      "source": [
        "<a href=\"https://colab.research.google.com/github/Lhekan0234/3MTT-Data-Visualization/blob/master/Assignment.ipynb\" target=\"_parent\"><img src=\"https://colab.research.google.com/assets/colab-badge.svg\" alt=\"Open In Colab\"/></a>"
      ]
    },
    {
      "cell_type": "code",
      "execution_count": 8,
      "metadata": {
        "id": "OV6Y9u4QWuwJ"
      },
      "outputs": [],
      "source": [
        "import pandas as pd\n",
        "import numpy as np"
      ]
    },
    {
      "cell_type": "markdown",
      "source": [],
      "metadata": {
        "id": "pMe9sg0jcRRP"
      }
    },
    {
      "cell_type": "code",
      "source": [
        "# Load the CSV file into a DataFrame\n",
        "df = pd.read_csv(\"/content/Business Funding Data.csv\", encoding='latin1')"
      ],
      "metadata": {
        "id": "Ec0XBtHUcQaD"
      },
      "execution_count": 12,
      "outputs": []
    },
    {
      "cell_type": "code",
      "source": [
        "# --- Preprocessing Steps ---\n",
        "\n",
        "# Step 1: Handling Missing Values\n",
        "# Justification: Fill missing categorical and numerical values with appropriate placeholders to ensure data completeness and prevent errors in later analysis.\n",
        "df['Financing Type'].fillna('Unknown', inplace=True)\n",
        "df['Financing Type Normalized'].fillna('Unknown', inplace=True)\n",
        "df['Investors'].fillna('Unknown', inplace=True)\n",
        "df['Investors Count'].fillna(0, inplace=True)"
      ],
      "metadata": {
        "colab": {
          "base_uri": "https://localhost:8080/"
        },
        "id": "42DSSo9EwHFk",
        "outputId": "1419a0f9-ac13-45d1-9e48-692a375158e0"
      },
      "execution_count": 13,
      "outputs": [
        {
          "output_type": "stream",
          "name": "stderr",
          "text": [
            "/tmp/ipython-input-1067038205.py:5: FutureWarning: A value is trying to be set on a copy of a DataFrame or Series through chained assignment using an inplace method.\n",
            "The behavior will change in pandas 3.0. This inplace method will never work because the intermediate object on which we are setting values always behaves as a copy.\n",
            "\n",
            "For example, when doing 'df[col].method(value, inplace=True)', try using 'df.method({col: value}, inplace=True)' or df[col] = df[col].method(value) instead, to perform the operation inplace on the original object.\n",
            "\n",
            "\n",
            "  df['Financing Type'].fillna('Unknown', inplace=True)\n",
            "/tmp/ipython-input-1067038205.py:6: FutureWarning: A value is trying to be set on a copy of a DataFrame or Series through chained assignment using an inplace method.\n",
            "The behavior will change in pandas 3.0. This inplace method will never work because the intermediate object on which we are setting values always behaves as a copy.\n",
            "\n",
            "For example, when doing 'df[col].method(value, inplace=True)', try using 'df.method({col: value}, inplace=True)' or df[col] = df[col].method(value) instead, to perform the operation inplace on the original object.\n",
            "\n",
            "\n",
            "  df['Financing Type Normalized'].fillna('Unknown', inplace=True)\n",
            "/tmp/ipython-input-1067038205.py:7: FutureWarning: A value is trying to be set on a copy of a DataFrame or Series through chained assignment using an inplace method.\n",
            "The behavior will change in pandas 3.0. This inplace method will never work because the intermediate object on which we are setting values always behaves as a copy.\n",
            "\n",
            "For example, when doing 'df[col].method(value, inplace=True)', try using 'df.method({col: value}, inplace=True)' or df[col] = df[col].method(value) instead, to perform the operation inplace on the original object.\n",
            "\n",
            "\n",
            "  df['Investors'].fillna('Unknown', inplace=True)\n",
            "/tmp/ipython-input-1067038205.py:8: FutureWarning: A value is trying to be set on a copy of a DataFrame or Series through chained assignment using an inplace method.\n",
            "The behavior will change in pandas 3.0. This inplace method will never work because the intermediate object on which we are setting values always behaves as a copy.\n",
            "\n",
            "For example, when doing 'df[col].method(value, inplace=True)', try using 'df.method({col: value}, inplace=True)' or df[col] = df[col].method(value) instead, to perform the operation inplace on the original object.\n",
            "\n",
            "\n",
            "  df['Investors Count'].fillna(0, inplace=True)\n"
          ]
        }
      ]
    },
    {
      "cell_type": "code",
      "source": [
        "# Step 2: Data Type Conversion and Cleaning\n",
        "# Justification: The 'Found At' column is a timestamp and converting it to datetime allows for time-based analysis. The 'Amount' column is inconsistent and the 'Amount Normalized' column is a clean numeric equivalent, so 'Amount' can be dropped.\n",
        "df['Found At'] = pd.to_datetime(df['Found At'])\n",
        "df.drop(columns=['Amount'], inplace=True)"
      ],
      "metadata": {
        "colab": {
          "base_uri": "https://localhost:8080/"
        },
        "id": "AAgDhMcOwG2j",
        "outputId": "adbab7cd-b6bf-4d31-9bb8-383bfa03f766"
      },
      "execution_count": 14,
      "outputs": [
        {
          "output_type": "stream",
          "name": "stderr",
          "text": [
            "/tmp/ipython-input-384223209.py:3: FutureWarning: In a future version of pandas, parsing datetimes with mixed time zones will raise an error unless `utc=True`. Please specify `utc=True` to opt in to the new behaviour and silence this warning. To create a `Series` with mixed offsets and `object` dtype, please use `apply` and `datetime.datetime.strptime`\n",
            "  df['Found At'] = pd.to_datetime(df['Found At'])\n"
          ]
        }
      ]
    },
    {
      "cell_type": "code",
      "source": [
        "# Step 3: Data Transformation\n",
        "# Justification: Convert string representations of lists in 'Categories' and 'Source Urls' into actual Python lists for easier iteration and analysis.\n",
        "import ast\n",
        "df['Categories'] = df['Categories'].apply(lambda x: ast.literal_eval(x) if isinstance(x, str) else x)"
      ],
      "metadata": {
        "id": "xf52JDxzwGk_"
      },
      "execution_count": 15,
      "outputs": []
    },
    {
      "cell_type": "code",
      "source": [
        "# Justification: The 'Investors Count' column is a count and should be an integer.\n",
        "df['Investors Count'] = df['Investors Count'].astype(int)\n",
        "\n",
        "# Justification: Remove the 'Website Domain' and 'Source Urls' columns as they are not relevant to funding amount analysis and can introduce noise.\n",
        "df.drop(columns=['Website Domain', 'Source Urls'], inplace=True)"
      ],
      "metadata": {
        "id": "FYTbYkaCXESy"
      },
      "execution_count": 16,
      "outputs": []
    },
    {
      "cell_type": "code",
      "source": [
        "# --- Re-explore the cleaned data to confirm the changes ---\n",
        "print(\"\\nCleaned Data Head:\")\n",
        "print(df.head())\n",
        "\n",
        "print(\"\\nCleaned Data Info:\")\n",
        "df.info()"
      ],
      "metadata": {
        "colab": {
          "base_uri": "https://localhost:8080/"
        },
        "id": "iB74zny2XKqy",
        "outputId": "ebd3b534-236b-4708-cd21-6e989c838bad"
      },
      "execution_count": 17,
      "outputs": [
        {
          "output_type": "stream",
          "name": "stdout",
          "text": [
            "\n",
            "Cleaned Data Head:\n",
            "  Effective date                   Found At Financing Type  \\\n",
            "0            NaN  2024-03-14 01:00:00+01:00        Unknown   \n",
            "1            NaN  2024-05-31 02:00:00+02:00        Unknown   \n",
            "2            NaN  2024-07-24 02:00:00+02:00        Unknown   \n",
            "3            NaN  2024-05-01 02:00:00+02:00        Unknown   \n",
            "4            NaN  2024-04-11 02:00:00+02:00        Unknown   \n",
            "\n",
            "  Financing Type Normalized        Categories  \\\n",
            "0                   Unknown                []   \n",
            "1                   Unknown                []   \n",
            "2                   Unknown  [private_equity]   \n",
            "3                   Unknown                []   \n",
            "4                   Unknown                []   \n",
            "\n",
            "                                           Investors  Investors Count  \\\n",
            "0                                            Unknown                0   \n",
            "1  avivainvestors.com, lloydsbankinggroup.com, sa...                9   \n",
            "2                                            Unknown                0   \n",
            "3                              stackcapitalgroup.com                1   \n",
            "4                                chevychasetrust.com                1   \n",
            "\n",
            "   Amount Normalized  \n",
            "0         1900000000  \n",
            "1          522700000  \n",
            "2           53671000  \n",
            "3            8000000  \n",
            "4            1960000  \n",
            "\n",
            "Cleaned Data Info:\n",
            "<class 'pandas.core.frame.DataFrame'>\n",
            "RangeIndex: 26 entries, 0 to 25\n",
            "Data columns (total 8 columns):\n",
            " #   Column                     Non-Null Count  Dtype \n",
            "---  ------                     --------------  ----- \n",
            " 0   Effective date             6 non-null      object\n",
            " 1   Found At                   26 non-null     object\n",
            " 2   Financing Type             26 non-null     object\n",
            " 3   Financing Type Normalized  26 non-null     object\n",
            " 4   Categories                 26 non-null     object\n",
            " 5   Investors                  26 non-null     object\n",
            " 6   Investors Count            26 non-null     int64 \n",
            " 7   Amount Normalized          26 non-null     int64 \n",
            "dtypes: int64(2), object(6)\n",
            "memory usage: 1.8+ KB\n"
          ]
        }
      ]
    },
    {
      "cell_type": "code",
      "source": [
        "# Save the cleaned DataFrame to a new CSV file\n",
        "df.to_csv('Cleaned_Business_Funding_Data.csv', index=False)\n",
        "\n",
        "print(\"\\nData successfully cleaned and saved to 'Cleaned_Business_Funding_Data.csv'.\")"
      ],
      "metadata": {
        "colab": {
          "base_uri": "https://localhost:8080/"
        },
        "id": "OUGyUZ3nXQU-",
        "outputId": "53cd368f-ac4c-4eca-9e7c-c73260f4a682"
      },
      "execution_count": 18,
      "outputs": [
        {
          "output_type": "stream",
          "name": "stdout",
          "text": [
            "\n",
            "Data successfully cleaned and saved to 'Cleaned_Business_Funding_Data.csv'.\n"
          ]
        }
      ]
    },
    {
      "cell_type": "code",
      "source": [],
      "metadata": {
        "id": "DP5PyiuPXWRJ"
      },
      "execution_count": null,
      "outputs": []
    }
  ]
}