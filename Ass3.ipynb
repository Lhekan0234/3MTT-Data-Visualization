{
  "nbformat": 4,
  "nbformat_minor": 0,
  "metadata": {
    "colab": {
      "provenance": [],
      "authorship_tag": "ABX9TyMHJ3Xa51DcfaDobyg/o9rh",
      "include_colab_link": true
    },
    "kernelspec": {
      "name": "python3",
      "display_name": "Python 3"
    },
    "language_info": {
      "name": "python"
    }
  },
  "cells": [
    {
      "cell_type": "markdown",
      "metadata": {
        "id": "view-in-github",
        "colab_type": "text"
      },
      "source": [
        "<a href=\"https://colab.research.google.com/github/Lhekan0234/3MTT-Data-Visualization/blob/master/Ass3.ipynb\" target=\"_parent\"><img src=\"https://colab.research.google.com/assets/colab-badge.svg\" alt=\"Open In Colab\"/></a>"
      ]
    },
    {
      "cell_type": "code",
      "execution_count": 1,
      "metadata": {
        "colab": {
          "base_uri": "https://localhost:8080/"
        },
        "id": "X6TvWEWR-x_J",
        "outputId": "23a7a9e5-1855-4592-b0db-237e2f77f45c"
      },
      "outputs": [
        {
          "output_type": "stream",
          "name": "stdout",
          "text": [
            "Stemmed words: ['run', 'fli', 'studi', 'easili', 'studi', 'better']\n",
            "Lemmatized words: ['run', 'fly', 'study', 'easily', 'study', 'well']\n"
          ]
        }
      ],
      "source": [
        "from nltk.stem import PorterStemmer\n",
        "import spacy\n",
        "\n",
        "# Initialize stemmer and lemmatizer\n",
        "stemmer = PorterStemmer()\n",
        "nlp = spacy.load(\"en_core_web_sm\")\n",
        "\n",
        "words = [\"running\", \"flies\", \"studies\", \"easily\", \"studying\", \"better\"]\n",
        "\n",
        "# Stemming\n",
        "stemmed_words = [stemmer.stem(word) for word in words]\n",
        "print(\"Stemmed words:\", stemmed_words)\n",
        "\n",
        "# Lemmatization\n",
        "doc = nlp(\" \".join(words))\n",
        "lemmatized_words = [token.lemma_ for token in doc]\n",
        "print(\"Lemmatized words:\", lemmatized_words)"
      ]
    },
    {
      "cell_type": "code",
      "source": [
        "from sklearn.feature_extraction.text import CountVectorizer, TfidfVectorizer\n",
        "\n",
        "# Dataset\n",
        "sentences = [\n",
        "    \"The quick brown fox jumps over the lazy dog.\",\n",
        "    \"The dog sleeps in the kernel\"\n",
        "]\n",
        "\n",
        "# Bag of Words\n",
        "count_vectorizer = CountVectorizer()\n",
        "bow_matrix = count_vectorizer.fit_transform(sentences)\n",
        "print(\"Bag of Words:\")\n",
        "print(bow_matrix.toarray())\n",
        "print(\"Vocabulary:\", count_vectorizer.get_feature_names_out())\n",
        "\n",
        "# TF-IDF\n",
        "tfidf_vectorizer = TfidfVectorizer()\n",
        "tfidf_matrix = tfidf_vectorizer.fit_transform(sentences)\n",
        "print(\"\\nTF-IDF:\")\n",
        "print(tfidf_matrix.toarray())"
      ],
      "metadata": {
        "colab": {
          "base_uri": "https://localhost:8080/"
        },
        "id": "jf8FMyJuAvEP",
        "outputId": "aaae6313-9a26-40cf-a835-6243d82bba63"
      },
      "execution_count": 2,
      "outputs": [
        {
          "output_type": "stream",
          "name": "stdout",
          "text": [
            "Bag of Words:\n",
            "[[1 1 1 0 1 0 1 1 1 0 2]\n",
            " [0 1 0 1 0 1 0 0 0 1 2]]\n",
            "Vocabulary: ['brown' 'dog' 'fox' 'in' 'jumps' 'kernel' 'lazy' 'over' 'quick' 'sleeps'\n",
            " 'the']\n",
            "\n",
            "TF-IDF:\n",
            "[[0.342369   0.24359836 0.342369   0.         0.342369   0.\n",
            "  0.342369   0.342369   0.342369   0.         0.48719673]\n",
            " [0.         0.30253071 0.         0.42519636 0.         0.42519636\n",
            "  0.         0.         0.         0.42519636 0.60506143]]\n"
          ]
        }
      ]
    },
    {
      "cell_type": "code",
      "metadata": {
        "colab": {
          "base_uri": "https://localhost:8080/"
        },
        "id": "ef274d18",
        "outputId": "02a8f79b-8a73-4a38-bf55-63451c980c2b"
      },
      "source": [
        "%pip install gensim"
      ],
      "execution_count": 4,
      "outputs": [
        {
          "output_type": "stream",
          "name": "stdout",
          "text": [
            "Requirement already satisfied: gensim in /usr/local/lib/python3.12/dist-packages (4.3.3)\n",
            "Requirement already satisfied: numpy<2.0,>=1.18.5 in /usr/local/lib/python3.12/dist-packages (from gensim) (1.26.4)\n",
            "Requirement already satisfied: scipy<1.14.0,>=1.7.0 in /usr/local/lib/python3.12/dist-packages (from gensim) (1.13.1)\n",
            "Requirement already satisfied: smart-open>=1.8.1 in /usr/local/lib/python3.12/dist-packages (from gensim) (7.3.0.post1)\n",
            "Requirement already satisfied: wrapt in /usr/local/lib/python3.12/dist-packages (from smart-open>=1.8.1->gensim) (1.17.3)\n"
          ]
        }
      ]
    },
    {
      "cell_type": "code",
      "source": [
        "import nltk\n",
        "nltk.download('punkt_tab')"
      ],
      "metadata": {
        "colab": {
          "base_uri": "https://localhost:8080/"
        },
        "id": "-qNPJckPBqzk",
        "outputId": "fe3b5b99-b6a8-44aa-93c9-1c18626f14e7"
      },
      "execution_count": 7,
      "outputs": [
        {
          "output_type": "stream",
          "name": "stderr",
          "text": [
            "[nltk_data] Downloading package punkt_tab to /root/nltk_data...\n",
            "[nltk_data]   Unzipping tokenizers/punkt_tab.zip.\n"
          ]
        },
        {
          "output_type": "execute_result",
          "data": {
            "text/plain": [
              "True"
            ]
          },
          "metadata": {},
          "execution_count": 7
        }
      ]
    },
    {
      "cell_type": "code",
      "source": [
        "from gensim.models import Word2Vec\n",
        "from nltk.tokenize import word_tokenize\n",
        "\n",
        "# Create dataset\n",
        "sentences = [\n",
        "    \"The cat meows loudly at night\",\n",
        "    \"The dog barks when strangers approach\",\n",
        "    \"The bird sings beautiful songs in the morning\",\n",
        "    \"Dogs are loyal companions to humans\",\n",
        "    \"Cats enjoy sleeping in warm places\"\n",
        "]\n",
        "\n",
        "# Tokenize sentences\n",
        "tokenized_sentences = [word_tokenize(sentence.lower()) for sentence in sentences]\n",
        "\n",
        "# Train Word2Vec model\n",
        "model = Word2Vec(sentences=tokenized_sentences, vector_size=100, window=5, min_count=1, workers=4)\n",
        "\n",
        "# Get embedding for \"dog\"\n",
        "if \"dog\" in model.wv:\n",
        "    dog_embedding = model.wv[\"dog\"]\n",
        "    print(f\"Embedding for 'dog' (first 10 dimensions): {dog_embedding[:10]}\")\n",
        "else:\n",
        "    print(\"Word 'dog' not in vocabulary\")"
      ],
      "metadata": {
        "colab": {
          "base_uri": "https://localhost:8080/"
        },
        "id": "DfHSSZ6UAvNK",
        "outputId": "0578014f-fcb8-4bc6-e876-eeb16653f96d"
      },
      "execution_count": 8,
      "outputs": [
        {
          "output_type": "stream",
          "name": "stdout",
          "text": [
            "Embedding for 'dog' (first 10 dimensions): [-0.00957855  0.00894312  0.00416507  0.00923473  0.0066435   0.00292474\n",
            "  0.00980402 -0.00442464 -0.00680331  0.00422738]\n"
          ]
        }
      ]
    },
    {
      "cell_type": "code",
      "source": [
        "import gensim.downloader as api\n",
        "from gensim.models import KeyedVectors\n",
        "\n",
        "# Load pre-trained GloVe model\n",
        "print(\"Loading GloVe model...\")\n",
        "glove_model = api.load(\"glove-wiki-gigaword-50\")\n",
        "\n",
        "# Get embedding for \"king\"\n",
        "if \"king\" in glove_model:\n",
        "    king_embedding = glove_model[\"king\"]\n",
        "    print(f\"Embedding for 'king' (first 10 dimensions): {king_embedding[:10]}\")\n",
        "else:\n",
        "    print(\"Word 'king' not in vocabulary\")\n",
        "\n",
        "# Find most similar words\n",
        "similar_words = glove_model.most_similar(\"king\", topn=5)\n",
        "print(\"\\n5 most similar words to 'king':\")\n",
        "for word, similarity in similar_words:\n",
        "    print(f\"{word}: {similarity:.4f}\")"
      ],
      "metadata": {
        "colab": {
          "base_uri": "https://localhost:8080/"
        },
        "id": "rWQQ44JkAvPv",
        "outputId": "99381370-3a74-4ca6-eb52-106004ccdcaf"
      },
      "execution_count": 9,
      "outputs": [
        {
          "output_type": "stream",
          "name": "stdout",
          "text": [
            "Loading GloVe model...\n",
            "[==================================================] 100.0% 66.0/66.0MB downloaded\n",
            "Embedding for 'king' (first 10 dimensions): [ 0.50451   0.68607  -0.59517  -0.022801  0.60046  -0.13498  -0.08813\n",
            "  0.47377  -0.61798  -0.31012 ]\n",
            "\n",
            "5 most similar words to 'king':\n",
            "prince: 0.8236\n",
            "queen: 0.7839\n",
            "ii: 0.7746\n",
            "emperor: 0.7736\n",
            "son: 0.7667\n"
          ]
        }
      ]
    },
    {
      "cell_type": "code",
      "source": [],
      "metadata": {
        "id": "hAMt4Kn1DJPs"
      },
      "execution_count": null,
      "outputs": []
    }
  ]
}