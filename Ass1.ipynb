{
  "nbformat": 4,
  "nbformat_minor": 0,
  "metadata": {
    "colab": {
      "provenance": [],
      "authorship_tag": "ABX9TyONilkUAsejfLuvT+ouBC2/",
      "include_colab_link": true
    },
    "kernelspec": {
      "name": "python3",
      "display_name": "Python 3"
    },
    "language_info": {
      "name": "python"
    }
  },
  "cells": [
    {
      "cell_type": "markdown",
      "metadata": {
        "id": "view-in-github",
        "colab_type": "text"
      },
      "source": [
        "<a href=\"https://colab.research.google.com/github/Lhekan0234/3MTT-Data-Visualization/blob/master/Ass1.ipynb\" target=\"_parent\"><img src=\"https://colab.research.google.com/assets/colab-badge.svg\" alt=\"Open In Colab\"/></a>"
      ]
    },
    {
      "cell_type": "code",
      "execution_count": 1,
      "metadata": {
        "colab": {
          "base_uri": "https://localhost:8080/"
        },
        "id": "JPKNe0kO79sO",
        "outputId": "5b093c8c-c73b-4dd3-9c54-a2850ed7c8ed"
      },
      "outputs": [
        {
          "output_type": "stream",
          "name": "stdout",
          "text": [
            "Email addresses: ['support@company.com', 'sales@business.org', 'info@service.net']\n",
            "Words ending with 'ing': ['amazing', 'cleaning', 'processing', 'learning']\n"
          ]
        }
      ],
      "source": [
        "import re\n",
        "\n",
        "# Extract email addresses\n",
        "text1 = \"Contact us at support@company.com or sales@business.org. For more, email info@service.net.\"\n",
        "emails = re.findall(r'\\b[A-Za-z0-9._%+-]+@[A-Za-z0-9.-]+\\.[A-Z|a-z]{2,}\\b', text1)\n",
        "print(\"Email addresses:\", emails)\n",
        "\n",
        "# Extract words ending with \"ing\"\n",
        "text2 = \"NLP is amazing for cleaning and processing text while learning new techniques.\"\n",
        "ing_words = re.findall(r'\\b\\w+ing\\b', text2)\n",
        "print(\"Words ending with 'ing':\", ing_words)"
      ]
    },
    {
      "cell_type": "code",
      "source": [
        "import re\n",
        "\n",
        "def clean_text(text):\n",
        "    # Remove punctuation\n",
        "    text_no_punct = re.sub(r'[^\\w\\s]', '', text)\n",
        "\n",
        "    # Convert to lowercase\n",
        "    text_lower = text_no_punct.lower()\n",
        "\n",
        "    # Split into words\n",
        "    words = text_lower.split()\n",
        "\n",
        "    return words\n",
        "\n",
        "text = \"NLP makes AI smarter! But, sometimes, it's challenging... Don't you agree?\"\n",
        "cleaned_words = clean_text(text)\n",
        "print(\"Cleaned words:\", cleaned_words)"
      ],
      "metadata": {
        "colab": {
          "base_uri": "https://localhost:8080/"
        },
        "id": "cRDvVUEX8RYj",
        "outputId": "7c358cce-dfa8-4750-96ef-df572b6584a3"
      },
      "execution_count": 2,
      "outputs": [
        {
          "output_type": "stream",
          "name": "stdout",
          "text": [
            "Cleaned words: ['nlp', 'makes', 'ai', 'smarter', 'but', 'sometimes', 'its', 'challenging', 'dont', 'you', 'agree']\n"
          ]
        }
      ]
    },
    {
      "cell_type": "code",
      "source": [],
      "metadata": {
        "id": "tc1Jl7ea9GAW"
      },
      "execution_count": null,
      "outputs": []
    }
  ]
}